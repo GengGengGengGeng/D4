{
  "cells": [
    {
      "cell_type": "markdown",
      "metadata": {
        "id": "view-in-github",
        "colab_type": "text"
      },
      "source": [
        "<a href=\"https://colab.research.google.com/github/GengGengGengGeng/D4/blob/main/Lab11_Ding_Geng.ipynb\" target=\"_parent\"><img src=\"https://colab.research.google.com/assets/colab-badge.svg\" alt=\"Open In Colab\"/></a>"
      ]
    },
    {
      "cell_type": "code",
      "execution_count": null,
      "id": "08d4ae3b",
      "metadata": {
        "id": "08d4ae3b"
      },
      "outputs": [],
      "source": [
        "import pandas as pd\n",
        "import numpy as np\n",
        "\n",
        "import matplotlib.pyplot as plt\n",
        "\n",
        "import seaborn as sns\n",
        "\n",
        "from sklearn.linear_model import LinearRegression\n",
        "from sklearn.metrics import mean_squared_error\n",
        "from sklearn.metrics import r2_score\n",
        "from sklearn.model_selection import train_test_split"
      ]
    },
    {
      "cell_type": "code",
      "execution_count": null,
      "id": "cfd80136",
      "metadata": {
        "id": "cfd80136",
        "outputId": "7f8ccc41-206d-4a8f-d9f1-11a94519d9b8"
      },
      "outputs": [
        {
          "data": {
            "text/html": [
              "<div>\n",
              "<style scoped>\n",
              "    .dataframe tbody tr th:only-of-type {\n",
              "        vertical-align: middle;\n",
              "    }\n",
              "\n",
              "    .dataframe tbody tr th {\n",
              "        vertical-align: top;\n",
              "    }\n",
              "\n",
              "    .dataframe thead th {\n",
              "        text-align: right;\n",
              "    }\n",
              "</style>\n",
              "<table border=\"1\" class=\"dataframe\">\n",
              "  <thead>\n",
              "    <tr style=\"text-align: right;\">\n",
              "      <th></th>\n",
              "      <th>Brain</th>\n",
              "      <th>Body</th>\n",
              "    </tr>\n",
              "  </thead>\n",
              "  <tbody>\n",
              "    <tr>\n",
              "      <th>0</th>\n",
              "      <td>3.385</td>\n",
              "      <td>44.5</td>\n",
              "    </tr>\n",
              "    <tr>\n",
              "      <th>1</th>\n",
              "      <td>0.480</td>\n",
              "      <td>15.5</td>\n",
              "    </tr>\n",
              "    <tr>\n",
              "      <th>2</th>\n",
              "      <td>1.350</td>\n",
              "      <td>8.1</td>\n",
              "    </tr>\n",
              "    <tr>\n",
              "      <th>3</th>\n",
              "      <td>465.000</td>\n",
              "      <td>423.0</td>\n",
              "    </tr>\n",
              "    <tr>\n",
              "      <th>4</th>\n",
              "      <td>36.330</td>\n",
              "      <td>119.5</td>\n",
              "    </tr>\n",
              "  </tbody>\n",
              "</table>\n",
              "</div>"
            ],
            "text/plain": [
              "     Brain   Body\n",
              "0    3.385   44.5\n",
              "1    0.480   15.5\n",
              "2    1.350    8.1\n",
              "3  465.000  423.0\n",
              "4   36.330  119.5"
            ]
          },
          "execution_count": 250,
          "metadata": {},
          "output_type": "execute_result"
        }
      ],
      "source": [
        "url = 'https://raw.githubusercontent.com/asukul/DS301-f19/master/datasets/Brain-BodySize/brain-bodysize.csv'\n",
        "data = pd.read_csv(url)\n",
        "data.head()"
      ]
    },
    {
      "cell_type": "code",
      "execution_count": null,
      "id": "2733a059",
      "metadata": {
        "id": "2733a059",
        "outputId": "c4ecfa1b-4aca-4d72-8773-b0587ad6066b"
      },
      "outputs": [
        {
          "data": {
            "image/png": "[encoded data removed]",
            "text/plain": [
              "<Figure size 432x288 with 1 Axes>"
            ]
          },
          "metadata": {
            "needs_background": "light"
          },
          "output_type": "display_data"
        }
      ],
      "source": [
        "plt.scatter(data.loc[:,'Brain'], data.loc[:,'Body'])\n",
        "plt.show()\n"
      ]
    },
    {
      "cell_type": "code",
      "execution_count": null,
      "id": "92b74595",
      "metadata": {
        "id": "92b74595",
        "outputId": "fac4279b-720d-4919-d8a4-d43790690c66"
      },
      "outputs": [
        {
          "data": {
            "image/png": "[encoded data removed]",
            "text/plain": [
              "<Figure size 432x288 with 1 Axes>"
            ]
          },
          "metadata": {
            "needs_background": "light"
          },
          "output_type": "display_data"
        }
      ],
      "source": [
        "# below also works\n",
        "plt.scatter(data.iloc[:,0], data.iloc[:,1])\n",
        "plt.show()"
      ]
    },
    {
      "cell_type": "markdown",
      "id": "675656d2",
      "metadata": {
        "id": "675656d2"
      },
      "source": [
        "#### fit a linear model"
      ]
    },
    {
      "cell_type": "code",
      "execution_count": null,
      "id": "2f8545e4",
      "metadata": {
        "id": "2f8545e4",
        "outputId": "1e9e0c8e-b129-440a-a2ee-8c330424644c"
      },
      "outputs": [
        {
          "name": "stdout",
          "output_type": "stream",
          "text": [
            "      Brain\n",
            "0     3.385\n",
            "1     0.480\n",
            "2     1.350\n",
            "3   465.000\n",
            "4    36.330\n",
            "5    27.660\n",
            "6    14.830\n",
            "7     1.040\n",
            "8     4.190\n",
            "9     0.425\n",
            "10    0.101\n",
            "11    0.920\n",
            "12    1.000\n",
            "13    0.005\n",
            "14    0.060\n",
            "15    3.500\n",
            "16    2.000\n",
            "17    1.700\n",
            "18    0.023\n",
            "19  187.100\n",
            "20  521.000\n",
            "21    0.785\n",
            "22   10.000\n",
            "23    3.300\n",
            "24    0.200\n",
            "25    1.410\n",
            "26  529.000\n",
            "27  207.000\n",
            "28   85.000\n",
            "29    0.750\n",
            "30   62.000\n",
            "31    3.500\n",
            "32    6.800\n",
            "33   35.000\n",
            "34    4.050\n",
            "35    0.120\n",
            "36    0.023\n",
            "37    0.010\n",
            "38    1.400\n",
            "39  250.000\n",
            "40    2.500\n",
            "41   55.500\n",
            "42  100.000\n",
            "43   52.160\n",
            "44   10.550\n",
            "45    0.550\n",
            "46   60.000\n",
            "47    3.600\n",
            "48    4.288\n",
            "49    0.280\n",
            "50    0.075\n",
            "51    0.122\n",
            "52    0.048\n",
            "53  192.000\n",
            "54    3.000\n",
            "55  160.000\n",
            "56    0.900\n",
            "57    1.620\n",
            "58    0.104\n",
            "59    4.235\n",
            "       Body\n",
            "0     44.50\n",
            "1     15.50\n",
            "2      8.10\n",
            "3    423.00\n",
            "4    119.50\n",
            "5    115.00\n",
            "6     98.20\n",
            "7      5.50\n",
            "8     58.00\n",
            "9      6.40\n",
            "10     4.00\n",
            "11     5.70\n",
            "12     6.60\n",
            "13     0.14\n",
            "14     1.00\n",
            "15    10.80\n",
            "16    12.30\n",
            "17     6.30\n",
            "18     0.30\n",
            "19   419.00\n",
            "20   655.00\n",
            "21     3.50\n",
            "22   115.00\n",
            "23    25.60\n",
            "24     5.00\n",
            "25    17.50\n",
            "26   680.00\n",
            "27   406.00\n",
            "28   325.00\n",
            "29    12.30\n",
            "30  1320.00\n",
            "31     3.90\n",
            "32   179.00\n",
            "33    56.00\n",
            "34    17.00\n",
            "35     1.00\n",
            "36     0.40\n",
            "37     0.25\n",
            "38    12.50\n",
            "39   490.00\n",
            "40    12.10\n",
            "41   175.00\n",
            "42   157.00\n",
            "43   440.00\n",
            "44   179.50\n",
            "45     2.40\n",
            "46    81.00\n",
            "47    21.00\n",
            "48    39.20\n",
            "49     1.90\n",
            "50     1.20\n",
            "51     3.00\n",
            "52     0.33\n",
            "53   180.00\n",
            "54    25.00\n",
            "55   169.00\n",
            "56     2.60\n",
            "57    11.40\n",
            "58     2.50\n",
            "59    50.40\n"
          ]
        }
      ],
      "source": [
        "X = data[['Brain']]\n",
        "y = data[['Body']]\n",
        "print(X)\n",
        "print(y)"
      ]
    },
    {
      "cell_type": "code",
      "execution_count": null,
      "id": "1850250b",
      "metadata": {
        "id": "1850250b",
        "outputId": "03cb8d74-0a06-4971-d6e1-c2e4c94c26be"
      },
      "outputs": [
        {
          "data": {
            "text/plain": [
              "<seaborn.axisgrid.PairGrid at 0x24d4c22fe50>"
            ]
          },
          "execution_count": 254,
          "metadata": {},
          "output_type": "execute_result"
        },
        {
          "data": {
            "image/png": "[encoded data removed]",
            "text/plain": [
              "<Figure size 360x360 with 6 Axes>"
            ]
          },
          "metadata": {
            "needs_background": "light"
          },
          "output_type": "display_data"
        }
      ],
      "source": [
        "sns.pairplot(data)"
      ]
    },
    {
      "cell_type": "code",
      "execution_count": null,
      "id": "d33e7c54",
      "metadata": {
        "id": "d33e7c54",
        "outputId": "f822c303-6fbc-403b-cab0-8182aa6bacfc"
      },
      "outputs": [
        {
          "data": {
            "text/plain": [
              "<AxesSubplot:xlabel='Brain', ylabel='Body'>"
            ]
          },
          "execution_count": 255,
          "metadata": {},
          "output_type": "execute_result"
        },
        {
          "data": {
            "image/png": "[encoded data removed]",
            "text/plain": [
              "<Figure size 432x288 with 1 Axes>"
            ]
          },
          "metadata": {
            "needs_background": "light"
          },
          "output_type": "display_data"
        }
      ],
      "source": [
        "sns.regplot(data=data, x='Brain', y='Body')"
      ]
    },
    {
      "cell_type": "code",
      "execution_count": null,
      "id": "4e484937",
      "metadata": {
        "id": "4e484937",
        "outputId": "11fb6c01-3682-4ef4-ffd1-b3378123919a"
      },
      "outputs": [
        {
          "data": {
            "text/plain": [
              "0.42322727989153086"
            ]
          },
          "execution_count": 256,
          "metadata": {},
          "output_type": "execute_result"
        }
      ],
      "source": [
        "model1 = LinearRegression().fit(X,y)\n",
        "model1.score(X,y)"
      ]
    },
    {
      "cell_type": "markdown",
      "id": "6ae8d504",
      "metadata": {
        "id": "6ae8d504"
      },
      "source": [
        "## NOTE that here I need to make it to numpy array in order to do the prediction\n",
        "## OR pandas dataframe"
      ]
    },
    {
      "cell_type": "code",
      "execution_count": null,
      "id": "6e3bb875",
      "metadata": {
        "id": "6e3bb875",
        "outputId": "3820b00b-94b4-4240-c9f2-4b205e5bbe31"
      },
      "outputs": [
        {
          "name": "stdout",
          "output_type": "stream",
          "text": [
            "[[59.43145292]]\n",
            "[[62.91104865]]\n",
            "[[90.7478145]]\n"
          ]
        },
        {
          "name": "stderr",
          "output_type": "stream",
          "text": [
            "C:\\ProgramData\\Anaconda3\\lib\\site-packages\\sklearn\\base.py:450: UserWarning: X does not have valid feature names, but LinearRegression was fitted with feature names\n",
            "  warnings.warn(\n",
            "C:\\ProgramData\\Anaconda3\\lib\\site-packages\\sklearn\\base.py:450: UserWarning: X does not have valid feature names, but LinearRegression was fitted with feature names\n",
            "  warnings.warn(\n",
            "C:\\ProgramData\\Anaconda3\\lib\\site-packages\\sklearn\\base.py:450: UserWarning: X does not have valid feature names, but LinearRegression was fitted with feature names\n",
            "  warnings.warn(\n"
          ]
        }
      ],
      "source": [
        "## dataframe\n",
        "new1 = pd.DataFrame([[2.8]])\n",
        "print(model1.predict(new1))\n",
        "\n",
        "## numpy array\n",
        "new2 = np.array([[5.6]])\n",
        "print(model1.predict(new2))\n",
        "\n",
        "new3 = np.array([[28]])\n",
        "print(model1.predict(new3))\n",
        "\n",
        "###Below is not working\n",
        "# new4 = 28\n",
        "# print(model1.predict(new4))\n"
      ]
    },
    {
      "cell_type": "markdown",
      "id": "76dd1eb2",
      "metadata": {
        "id": "76dd1eb2"
      },
      "source": [
        "### Calculate RMSE, R2"
      ]
    },
    {
      "cell_type": "markdown",
      "id": "3c05a704",
      "metadata": {
        "id": "3c05a704"
      },
      "source": [
        "# For linear regression there is no \"accuracy score\", accuracy score is not for continous data"
      ]
    },
    {
      "cell_type": "markdown",
      "id": "1e6c6a08",
      "metadata": {
        "id": "1e6c6a08"
      },
      "source": [
        "# model.score: Return the coefficient of determination of the prediction."
      ]
    },
    {
      "cell_type": "code",
      "execution_count": null,
      "id": "19c846f9",
      "metadata": {
        "id": "19c846f9",
        "outputId": "a3a4f07d-b84c-4fb2-f976-05ba94f94ee1"
      },
      "outputs": [
        {
          "name": "stdout",
          "output_type": "stream",
          "text": [
            "RMSE:  5037.706956594284\n",
            "R2:  0.8059655506986935\n",
            "model.score:  0.08741681676921675\n"
          ]
        },
        {
          "name": "stderr",
          "output_type": "stream",
          "text": [
            "C:\\ProgramData\\Anaconda3\\lib\\site-packages\\sklearn\\base.py:443: UserWarning: X has feature names, but LinearRegression was fitted without feature names\n",
            "  warnings.warn(\n"
          ]
        }
      ],
      "source": [
        "X_train, X_test, y_train, y_test = train_test_split(X,y, test_size = 0.3, random_state = 90)\n",
        "#print(X_train)\n",
        "model2 = LinearRegression().fit(X_train, y_train)\n",
        "y_pred = model2.predict(X_test)\n",
        "print(\"RMSE: \", mean_squared_error(y_true = y_test, y_pred = y_pred))\n",
        "print(\"R2: \", r2_score(y_true = y_test, y_pred = y_pred))\n",
        "print(\"model.score: \",norm_model.score(X_train, y_train))"
      ]
    },
    {
      "cell_type": "markdown",
      "id": "25a5b34f",
      "metadata": {
        "id": "25a5b34f"
      },
      "source": [
        "### Data transformation: Normalization"
      ]
    },
    {
      "cell_type": "code",
      "execution_count": null,
      "id": "22b3cac8",
      "metadata": {
        "id": "22b3cac8"
      },
      "outputs": [],
      "source": [
        "from sklearn.preprocessing import StandardScaler"
      ]
    },
    {
      "cell_type": "code",
      "execution_count": null,
      "id": "24253923",
      "metadata": {
        "id": "24253923"
      },
      "outputs": [],
      "source": [
        "std = StandardScaler()\n",
        "std.fit(X_train, X_test)\n",
        "std_norm_X_train = std.transform(X_train)\n",
        "std_norm_X_test = std.transform(X_test)\n",
        "\n",
        "std.fit(y_train, y_test)\n",
        "std_norm_y_train = std.transform(y_train)\n",
        "std_norm_y_test = std.transform(y_test)\n",
        "#print(X_test,'\\n',std_norm_X_test, type(std_norm_X_test))\n",
        "#print(y_test,'\\n',std_norm_y_test)\n",
        "#print(X_train,'\\n',std_norm_X_train)\n",
        "#print(y_train,'\\n',std_norm_y_train)"
      ]
    },
    {
      "cell_type": "code",
      "execution_count": null,
      "id": "bff3e020",
      "metadata": {
        "id": "bff3e020",
        "outputId": "9ba82f68-3977-4e54-b8d9-9b6c664ae98f"
      },
      "outputs": [
        {
          "name": "stdout",
          "output_type": "stream",
          "text": [
            "RMSE: 0.08178688228000813\n",
            "R2: 0.8059655506986934\n",
            "model.score: 0.34796827226022453\n"
          ]
        }
      ],
      "source": [
        "norm_model = LinearRegression().fit(std_norm_X_train, std_norm_y_train)\n",
        "\n",
        "norm_y_pred = norm_model.predict(std_norm_X_test)\n",
        "\n",
        "\n",
        "print(\"RMSE:\", mean_squared_error(y_true = std_norm_y_test, y_pred = norm_y_pred))\n",
        "print(\"R2:\", r2_score(y_true = std_norm_y_test, y_pred = norm_y_pred))\n",
        "print(\"model.score:\",norm_model.score(std_norm_X_train, std_norm_y_train))"
      ]
    },
    {
      "cell_type": "code",
      "execution_count": null,
      "id": "4ca49efb",
      "metadata": {
        "id": "4ca49efb",
        "outputId": "c26bd3ff-3cd9-462b-efb2-2e79a376815b"
      },
      "outputs": [
        {
          "data": {
            "text/plain": [
              "<AxesSubplot:>"
            ]
          },
          "execution_count": 262,
          "metadata": {},
          "output_type": "execute_result"
        },
        {
          "data": {
            "image/png": "[encoded data removed]",
            "text/plain": [
              "<Figure size 432x288 with 1 Axes>"
            ]
          },
          "metadata": {
            "needs_background": "light"
          },
          "output_type": "display_data"
        }
      ],
      "source": [
        "sns.regplot(data=data, x=std_norm_X_train, y=std_norm_y_train)"
      ]
    },
    {
      "cell_type": "code",
      "execution_count": null,
      "id": "62144146",
      "metadata": {
        "id": "62144146",
        "outputId": "1c836797-28ef-432d-a0f2-837a6d54d19c"
      },
      "outputs": [
        {
          "data": {
            "text/plain": [
              "<AxesSubplot:xlabel='Brain', ylabel='Body'>"
            ]
          },
          "execution_count": 263,
          "metadata": {},
          "output_type": "execute_result"
        },
        {
          "data": {
            "image/png": "[encoded data removed]",
            "text/plain": [
              "<Figure size 432x288 with 1 Axes>"
            ]
          },
          "metadata": {
            "needs_background": "light"
          },
          "output_type": "display_data"
        }
      ],
      "source": [
        "sns.regplot(data=data, x=X_train, y=y_train)"
      ]
    },
    {
      "cell_type": "code",
      "execution_count": null,
      "id": "0585e74f",
      "metadata": {
        "id": "0585e74f",
        "outputId": "978f9add-428c-4e41-8d2f-167626bbdc6f"
      },
      "outputs": [
        {
          "data": {
            "text/plain": [
              "<AxesSubplot:>"
            ]
          },
          "execution_count": 264,
          "metadata": {},
          "output_type": "execute_result"
        },
        {
          "data": {
            "image/png": "[encoded data removed]",
            "text/plain": [
              "<Figure size 432x288 with 1 Axes>"
            ]
          },
          "metadata": {
            "needs_background": "light"
          },
          "output_type": "display_data"
        }
      ],
      "source": [
        "sns.regplot(data=data, x=std_norm_y_test, y=norm_y_pred)"
      ]
    },
    {
      "cell_type": "code",
      "execution_count": null,
      "id": "d97c09a3",
      "metadata": {
        "id": "d97c09a3",
        "outputId": "172f8caf-2c9d-41bc-9571-8dc3cdda6b47"
      },
      "outputs": [
        {
          "data": {
            "text/plain": [
              "<AxesSubplot:xlabel='Body'>"
            ]
          },
          "execution_count": 265,
          "metadata": {},
          "output_type": "execute_result"
        },
        {
          "data": {
            "image/png": "[encoded data removed]",
            "text/plain": [
              "<Figure size 432x288 with 1 Axes>"
            ]
          },
          "metadata": {
            "needs_background": "light"
          },
          "output_type": "display_data"
        }
      ],
      "source": [
        "sns.regplot(data=data, x=y_test, y=y_pred)"
      ]
    },
    {
      "cell_type": "code",
      "execution_count": null,
      "id": "b44c619a",
      "metadata": {
        "id": "b44c619a"
      },
      "outputs": [],
      "source": []
    },
    {
      "cell_type": "code",
      "execution_count": null,
      "id": "6840072f",
      "metadata": {
        "id": "6840072f"
      },
      "outputs": [],
      "source": []
    },
    {
      "cell_type": "code",
      "execution_count": null,
      "id": "ff5c786e",
      "metadata": {
        "id": "ff5c786e"
      },
      "outputs": [],
      "source": []
    },
    {
      "cell_type": "code",
      "execution_count": null,
      "id": "ded4c99c",
      "metadata": {
        "id": "ded4c99c"
      },
      "outputs": [],
      "source": []
    },
    {
      "cell_type": "code",
      "execution_count": null,
      "id": "0c6081ff",
      "metadata": {
        "id": "0c6081ff"
      },
      "outputs": [],
      "source": []
    },
    {
      "cell_type": "code",
      "execution_count": null,
      "id": "19ec6425",
      "metadata": {
        "id": "19ec6425"
      },
      "outputs": [],
      "source": []
    },
    {
      "cell_type": "code",
      "execution_count": null,
      "id": "eff7b0af",
      "metadata": {
        "id": "eff7b0af"
      },
      "outputs": [],
      "source": []
    },
    {
      "cell_type": "code",
      "execution_count": null,
      "id": "c63cd6b8",
      "metadata": {
        "id": "c63cd6b8"
      },
      "outputs": [],
      "source": []
    },
    {
      "cell_type": "code",
      "execution_count": null,
      "id": "0a1e5d46",
      "metadata": {
        "id": "0a1e5d46"
      },
      "outputs": [],
      "source": []
    },
    {
      "cell_type": "code",
      "execution_count": null,
      "id": "49c0ff45",
      "metadata": {
        "id": "49c0ff45"
      },
      "outputs": [],
      "source": []
    },
    {
      "cell_type": "code",
      "execution_count": null,
      "id": "1850653c",
      "metadata": {
        "id": "1850653c"
      },
      "outputs": [],
      "source": []
    },
    {
      "cell_type": "code",
      "execution_count": null,
      "id": "d9e53eef",
      "metadata": {
        "id": "d9e53eef"
      },
      "outputs": [],
      "source": []
    },
    {
      "cell_type": "code",
      "execution_count": null,
      "id": "4611dd57",
      "metadata": {
        "id": "4611dd57"
      },
      "outputs": [],
      "source": []
    }
  ],
  "metadata": {
    "kernelspec": {
      "display_name": "Python 3 (ipykernel)",
      "language": "python",
      "name": "python3"
    },
    "language_info": {
      "codemirror_mode": {
        "name": "ipython",
        "version": 3
      },
      "file_extension": ".py",
      "mimetype": "text/x-python",
      "name": "python",
      "nbconvert_exporter": "python",
      "pygments_lexer": "ipython3",
      "version": "3.9.12"
    },
    "colab": {
      "provenance": [],
      "include_colab_link": true
    }
  },
  "nbformat": 4,
  "nbformat_minor": 5
}